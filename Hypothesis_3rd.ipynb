{
 "cells": [
  {
   "cell_type": "code",
   "execution_count": 2,
   "id": "d9be3e45",
   "metadata": {},
   "outputs": [],
   "source": [
    "import pandas as pd\n",
    "import numpy as np\n",
    "from scipy import stats"
   ]
  },
  {
   "cell_type": "markdown",
   "id": "8f0142ce",
   "metadata": {},
   "source": [
    "Level of significance is 5%"
   ]
  },
  {
   "cell_type": "markdown",
   "id": "6ac24694",
   "metadata": {},
   "source": [
    "α == 0.05(95% Confidence)\n",
    "\n",
    "Y==Discrete\n",
    "\n",
    "X==Discrete\n",
    "\n",
    "Since there are more than 2 variables are present, we will perform Chi-square test"
   ]
  },
  {
   "cell_type": "markdown",
   "id": "1b4c83c1",
   "metadata": {},
   "source": [
    "# Chi-Square test"
   ]
  },
  {
   "cell_type": "code",
   "execution_count": 8,
   "id": "dad955d3",
   "metadata": {},
   "outputs": [
    {
     "data": {
      "text/html": [
       "<div>\n",
       "<style scoped>\n",
       "    .dataframe tbody tr th:only-of-type {\n",
       "        vertical-align: middle;\n",
       "    }\n",
       "\n",
       "    .dataframe tbody tr th {\n",
       "        vertical-align: top;\n",
       "    }\n",
       "\n",
       "    .dataframe thead th {\n",
       "        text-align: right;\n",
       "    }\n",
       "</style>\n",
       "<table border=\"1\" class=\"dataframe\">\n",
       "  <thead>\n",
       "    <tr style=\"text-align: right;\">\n",
       "      <th></th>\n",
       "      <th>Observed Values</th>\n",
       "      <th>East</th>\n",
       "      <th>West</th>\n",
       "      <th>North</th>\n",
       "      <th>South</th>\n",
       "    </tr>\n",
       "  </thead>\n",
       "  <tbody>\n",
       "    <tr>\n",
       "      <th>0</th>\n",
       "      <td>Males</td>\n",
       "      <td>50</td>\n",
       "      <td>142</td>\n",
       "      <td>131</td>\n",
       "      <td>70</td>\n",
       "    </tr>\n",
       "    <tr>\n",
       "      <th>1</th>\n",
       "      <td>Females</td>\n",
       "      <td>435</td>\n",
       "      <td>1523</td>\n",
       "      <td>1356</td>\n",
       "      <td>750</td>\n",
       "    </tr>\n",
       "  </tbody>\n",
       "</table>\n",
       "</div>"
      ],
      "text/plain": [
       "  Observed Values  East  West  North  South\n",
       "0           Males    50   142    131     70\n",
       "1         Females   435  1523   1356    750"
      ]
     },
     "execution_count": 8,
     "metadata": {},
     "output_type": "execute_result"
    }
   ],
   "source": [
    "buyers=pd.read_csv(\"BuyerRatio.csv\")\n",
    "buyers"
   ]
  },
  {
   "cell_type": "code",
   "execution_count": 10,
   "id": "71ffe11c",
   "metadata": {
    "scrolled": true
   },
   "outputs": [
    {
     "data": {
      "text/plain": [
       "(1.5959455386610577,\n",
       " 0.6603094907091882,\n",
       " 3,\n",
       " array([[  42.76531299,  442.23468701],\n",
       "        [ 146.81287862, 1518.18712138],\n",
       "        [ 131.11756787, 1355.88243213],\n",
       "        [  72.30424052,  747.69575948]]))"
      ]
     },
     "execution_count": 10,
     "metadata": {},
     "output_type": "execute_result"
    }
   ],
   "source": [
    "stats.chi2_contingency([buyers[\"East\"],buyers[\"West\"],buyers[\"North\"],buyers[\"South\"]])"
   ]
  },
  {
   "cell_type": "markdown",
   "id": "86e3a8b4",
   "metadata": {},
   "source": [
    "P-value of Chi-Squared test == 0.66 > α"
   ]
  },
  {
   "cell_type": "markdown",
   "id": "03f5272c",
   "metadata": {},
   "source": [
    "### Thus H0 is accepted."
   ]
  },
  {
   "cell_type": "markdown",
   "id": "f2a851a5",
   "metadata": {},
   "source": [
    "### Buyer ratios of male-female are similar across regions."
   ]
  },
  {
   "cell_type": "code",
   "execution_count": null,
   "id": "dd9b93df",
   "metadata": {},
   "outputs": [],
   "source": []
  }
 ],
 "metadata": {
  "kernelspec": {
   "display_name": "Python 3 (ipykernel)",
   "language": "python",
   "name": "python3"
  },
  "language_info": {
   "codemirror_mode": {
    "name": "ipython",
    "version": 3
   },
   "file_extension": ".py",
   "mimetype": "text/x-python",
   "name": "python",
   "nbconvert_exporter": "python",
   "pygments_lexer": "ipython3",
   "version": "3.9.13"
  }
 },
 "nbformat": 4,
 "nbformat_minor": 5
}
